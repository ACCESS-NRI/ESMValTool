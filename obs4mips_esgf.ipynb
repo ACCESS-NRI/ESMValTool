{
 "cells": [
  {
   "cell_type": "code",
   "execution_count": 7,
   "id": "8bdd3c26",
   "metadata": {},
   "outputs": [],
   "source": [
    "#import yaml\n",
    "from ruamel.yaml import YAML\n",
    "import pathlib, subprocess\n",
    "from pathlib import Path"
   ]
  },
  {
   "cell_type": "code",
   "execution_count": 8,
   "id": "046e7c84",
   "metadata": {},
   "outputs": [],
   "source": [
    "def load_with_pre_directives_comments(yaml, path):\n",
    "    comments = []\n",
    "    text = path.read_text()\n",
    "    if '\\n---\\n' not in text and '\\n--- ' not in text:\n",
    "         return yaml.load(text), comments\n",
    "    for line in text.splitlines(True):\n",
    "        if line.lstrip().startswith('#'):\n",
    "            comments.append(line)\n",
    "        elif line.startswith('---'):\n",
    "            return yaml.load(text), comments\n",
    "            break"
   ]
  },
  {
   "cell_type": "code",
   "execution_count": 9,
   "id": "04e02ae4",
   "metadata": {},
   "outputs": [],
   "source": [
    "def lookup(sk, d, path=[]):\n",
    "    # lookup the values for key(s) sk return as list the tuple (path to the value, value)\n",
    "    if isinstance(d, dict):\n",
    "        for k, v in d.items():\n",
    "            if k == sk:\n",
    "                yield (d, v)\n",
    "            for res in lookup(sk, v, path + [k]):\n",
    "                yield res\n",
    "    elif isinstance(d, list):\n",
    "        for item in d:\n",
    "            for res in lookup(sk, item, path + [item]):\n",
    "                yield res"
   ]
  },
  {
   "cell_type": "code",
   "execution_count": 10,
   "id": "5467c796",
   "metadata": {},
   "outputs": [],
   "source": [
    "with open('recipe_obs4mips.yml', 'r') as file:\n",
    "    yaml = YAML(typ='safe')\n",
    "    recipes = yaml.load(file)[\"recipes\"]"
   ]
  },
  {
   "cell_type": "code",
   "execution_count": 11,
   "id": "ffd66592",
   "metadata": {},
   "outputs": [],
   "source": [
    "for recipe in  recipes.keys():\n",
    "    datasets_to_replace = recipes[recipe][\"datasets\"]\n",
    "\n",
    "    yaml = YAML()\n",
    "    yaml.width = 80\n",
    "    yaml.indent(mapping=2, sequence=2, offset=2)\n",
    "    yaml.explicit_start = True\n",
    "    yaml.allow_duplicate_keys = True\n",
    "    _, comments = load_with_pre_directives_comments(yaml, pathlib.Path(f\"esmvaltool/recipes/{recipe}\"))\n",
    "    \n",
    "    with open(f\"esmvaltool/recipes/{recipe}\", \"r\") as file:\n",
    "        data = yaml.load(file)\n",
    "\n",
    "    for key, val in datasets_to_replace.items():\n",
    "        for d, value in lookup(\"additional_datasets\", data):\n",
    "            for entry in d[\"additional_datasets\"]:\n",
    "                if entry[\"dataset\"] == key:\n",
    "                    entry[\"dataset\"] = datasets_to_replace[key][\"esgf_dataset\"]\n",
    "                    if \"version\" in entry.keys():\n",
    "                        entry.pop(\"version\")\n",
    "            \n",
    "        for d, value in lookup(\"datasets\", data):\n",
    "            for entry in d[\"datasets\"]:\n",
    "                if entry[\"dataset\"] == key:\n",
    "                    entry[\"dataset\"] = datasets_to_replace[key][\"esgf_dataset\"]\n",
    "                    if \"version\" in entry.keys():\n",
    "                        entry.pop(\"version\")\n",
    "    \n",
    "    file_in = Path(recipe)    \n",
    "    with open(f\"esmvaltool/recipes/{recipe}\", 'w') as file:\n",
    "        file.write(''.join(comments))   \n",
    "    with open(f\"esmvaltool/recipes/{recipe}\", 'a') as file:\n",
    "        yaml.dump(data, file)"
   ]
  },
  {
   "cell_type": "code",
   "execution_count": 21,
   "id": "006822cb",
   "metadata": {},
   "outputs": [
    {
     "name": "stderr",
     "output_type": "stream",
     "text": [
      "Already on 'main'\n",
      "fatal: a branch named 'recipe_smpi' already exists\n"
     ]
    },
    {
     "name": "stdout",
     "output_type": "stream",
     "text": [
      "Your branch is up to date with 'origin/main'.\n",
      "On branch main\n",
      "Your branch is up to date with 'origin/main'.\n",
      "\n",
      "Untracked files:\n",
      "  (use \"git add <file>...\" to include in what will be committed)\n",
      "\tobs4mips_esgf.ipynb\n",
      "\trecipe_obs4mips.yml\n",
      "\n",
      "nothing added to commit but untracked files present (use \"git add\" to track)\n"
     ]
    },
    {
     "name": "stderr",
     "output_type": "stream",
     "text": [
      "remote: \n",
      "remote: Create a pull request for 'recipe_smpi' on GitHub by visiting:        \n",
      "remote:      https://github.com/ACCESS-NRI/ESMValTool/pull/new/recipe_smpi        \n",
      "remote: \n",
      "To github.com:ACCESS-NRI/ESMValTool.git\n",
      " * [new branch]          recipe_smpi -> recipe_smpi\n",
      "Already on 'main'\n",
      "fatal: a branch named 'recipe_perfmetrics_CMIP5' already exists\n"
     ]
    },
    {
     "name": "stdout",
     "output_type": "stream",
     "text": [
      "branch 'recipe_smpi' set up to track 'access-nri/recipe_smpi'.\n",
      "Your branch is up to date with 'origin/main'.\n",
      "On branch main\n",
      "Your branch is up to date with 'origin/main'.\n",
      "\n",
      "Untracked files:\n",
      "  (use \"git add <file>...\" to include in what will be committed)\n",
      "\tobs4mips_esgf.ipynb\n",
      "\trecipe_obs4mips.yml\n",
      "\n",
      "nothing added to commit but untracked files present (use \"git add\" to track)\n"
     ]
    },
    {
     "name": "stderr",
     "output_type": "stream",
     "text": [
      "remote: \n",
      "remote: Create a pull request for 'recipe_perfmetrics_CMIP5' on GitHub by visiting:        \n",
      "remote:      https://github.com/ACCESS-NRI/ESMValTool/pull/new/recipe_perfmetrics_CMIP5        \n",
      "remote: \n",
      "To github.com:ACCESS-NRI/ESMValTool.git\n",
      " * [new branch]          recipe_perfmetrics_CMIP5 -> recipe_perfmetrics_CMIP5\n",
      "Already on 'main'\n",
      "fatal: a branch named 'recipe_ecs_scatter' already exists\n"
     ]
    },
    {
     "name": "stdout",
     "output_type": "stream",
     "text": [
      "branch 'recipe_perfmetrics_CMIP5' set up to track 'access-nri/recipe_perfmetrics_CMIP5'.\n",
      "Your branch is up to date with 'origin/main'.\n",
      "On branch main\n",
      "Your branch is up to date with 'origin/main'.\n",
      "\n",
      "Untracked files:\n",
      "  (use \"git add <file>...\" to include in what will be committed)\n",
      "\tobs4mips_esgf.ipynb\n",
      "\trecipe_obs4mips.yml\n",
      "\n",
      "nothing added to commit but untracked files present (use \"git add\" to track)\n"
     ]
    },
    {
     "name": "stderr",
     "output_type": "stream",
     "text": [
      "remote: \n",
      "remote: Create a pull request for 'recipe_ecs_scatter' on GitHub by visiting:        \n",
      "remote:      https://github.com/ACCESS-NRI/ESMValTool/pull/new/recipe_ecs_scatter        \n",
      "remote: \n",
      "To github.com:ACCESS-NRI/ESMValTool.git\n",
      " * [new branch]          recipe_ecs_scatter -> recipe_ecs_scatter\n",
      "Already on 'main'\n",
      "fatal: a branch named 'recipe_quantilebias' already exists\n"
     ]
    },
    {
     "name": "stdout",
     "output_type": "stream",
     "text": [
      "branch 'recipe_ecs_scatter' set up to track 'access-nri/recipe_ecs_scatter'.\n",
      "Your branch is up to date with 'origin/main'.\n",
      "On branch main\n",
      "Your branch is up to date with 'origin/main'.\n",
      "\n",
      "Untracked files:\n",
      "  (use \"git add <file>...\" to include in what will be committed)\n",
      "\tobs4mips_esgf.ipynb\n",
      "\trecipe_obs4mips.yml\n",
      "\n",
      "nothing added to commit but untracked files present (use \"git add\" to track)\n"
     ]
    },
    {
     "name": "stderr",
     "output_type": "stream",
     "text": [
      "remote: \n",
      "remote: Create a pull request for 'recipe_quantilebias' on GitHub by visiting:        \n",
      "remote:      https://github.com/ACCESS-NRI/ESMValTool/pull/new/recipe_quantilebias        \n",
      "remote: \n",
      "To github.com:ACCESS-NRI/ESMValTool.git\n",
      " * [new branch]          recipe_quantilebias -> recipe_quantilebias\n",
      "Already on 'main'\n",
      "fatal: a branch named 'recipe_clouds_bias' already exists\n"
     ]
    },
    {
     "name": "stdout",
     "output_type": "stream",
     "text": [
      "branch 'recipe_quantilebias' set up to track 'access-nri/recipe_quantilebias'.\n",
      "Your branch is up to date with 'origin/main'.\n",
      "On branch main\n",
      "Your branch is up to date with 'origin/main'.\n",
      "\n",
      "Untracked files:\n",
      "  (use \"git add <file>...\" to include in what will be committed)\n",
      "\tobs4mips_esgf.ipynb\n",
      "\trecipe_obs4mips.yml\n",
      "\n",
      "nothing added to commit but untracked files present (use \"git add\" to track)\n"
     ]
    },
    {
     "name": "stderr",
     "output_type": "stream",
     "text": [
      "remote: \n",
      "remote: Create a pull request for 'recipe_clouds_bias' on GitHub by visiting:        \n",
      "remote:      https://github.com/ACCESS-NRI/ESMValTool/pull/new/recipe_clouds_bias        \n",
      "remote: \n",
      "To github.com:ACCESS-NRI/ESMValTool.git\n",
      " * [new branch]          recipe_clouds_bias -> recipe_clouds_bias\n",
      "Already on 'main'\n",
      "fatal: a branch named 'recipe_schlund20esd' already exists\n"
     ]
    },
    {
     "name": "stdout",
     "output_type": "stream",
     "text": [
      "branch 'recipe_clouds_bias' set up to track 'access-nri/recipe_clouds_bias'.\n",
      "Your branch is up to date with 'origin/main'.\n",
      "On branch main\n",
      "Your branch is up to date with 'origin/main'.\n",
      "\n",
      "Untracked files:\n",
      "  (use \"git add <file>...\" to include in what will be committed)\n",
      "\tobs4mips_esgf.ipynb\n",
      "\trecipe_obs4mips.yml\n",
      "\n",
      "nothing added to commit but untracked files present (use \"git add\" to track)\n"
     ]
    },
    {
     "name": "stderr",
     "output_type": "stream",
     "text": [
      "remote: \n",
      "remote: Create a pull request for 'recipe_schlund20esd' on GitHub by visiting:        \n",
      "remote:      https://github.com/ACCESS-NRI/ESMValTool/pull/new/recipe_schlund20esd        \n",
      "remote: \n",
      "To github.com:ACCESS-NRI/ESMValTool.git\n",
      " * [new branch]          recipe_schlund20esd -> recipe_schlund20esd\n",
      "Already on 'main'\n",
      "fatal: a branch named 'recipe_flato13ipcc_figure_942' already exists\n"
     ]
    },
    {
     "name": "stdout",
     "output_type": "stream",
     "text": [
      "branch 'recipe_schlund20esd' set up to track 'access-nri/recipe_schlund20esd'.\n",
      "Your branch is up to date with 'origin/main'.\n",
      "On branch main\n",
      "Your branch is up to date with 'origin/main'.\n",
      "\n",
      "Untracked files:\n",
      "  (use \"git add <file>...\" to include in what will be committed)\n",
      "\tobs4mips_esgf.ipynb\n",
      "\trecipe_obs4mips.yml\n",
      "\n",
      "nothing added to commit but untracked files present (use \"git add\" to track)\n"
     ]
    },
    {
     "name": "stderr",
     "output_type": "stream",
     "text": [
      "remote: \n",
      "remote: Create a pull request for 'recipe_flato13ipcc_figure_942' on GitHub by visiting:        \n",
      "remote:      https://github.com/ACCESS-NRI/ESMValTool/pull/new/recipe_flato13ipcc_figure_942        \n",
      "remote: \n",
      "To github.com:ACCESS-NRI/ESMValTool.git\n",
      " * [new branch]          recipe_flato13ipcc_figure_942 -> recipe_flato13ipcc_figure_942\n",
      "Already on 'main'\n",
      "fatal: a branch named 'recipe_flato13ipcc_figures_926_927' already exists\n"
     ]
    },
    {
     "name": "stdout",
     "output_type": "stream",
     "text": [
      "branch 'recipe_flato13ipcc_figure_942' set up to track 'access-nri/recipe_flato13ipcc_figure_942'.\n",
      "Your branch is up to date with 'origin/main'.\n",
      "On branch main\n",
      "Your branch is up to date with 'origin/main'.\n",
      "\n",
      "Untracked files:\n",
      "  (use \"git add <file>...\" to include in what will be committed)\n",
      "\tobs4mips_esgf.ipynb\n",
      "\trecipe_obs4mips.yml\n",
      "\n",
      "nothing added to commit but untracked files present (use \"git add\" to track)\n"
     ]
    },
    {
     "name": "stderr",
     "output_type": "stream",
     "text": [
      "remote: \n",
      "remote: Create a pull request for 'recipe_flato13ipcc_figures_926_927' on GitHub by visiting:        \n",
      "remote:      https://github.com/ACCESS-NRI/ESMValTool/pull/new/recipe_flato13ipcc_figures_926_927        \n",
      "remote: \n",
      "To github.com:ACCESS-NRI/ESMValTool.git\n",
      " * [new branch]          recipe_flato13ipcc_figures_926_927 -> recipe_flato13ipcc_figures_926_927\n",
      "Already on 'main'\n",
      "fatal: a branch named 'recipe_flato13ipcc_figure_98' already exists\n"
     ]
    },
    {
     "name": "stdout",
     "output_type": "stream",
     "text": [
      "branch 'recipe_flato13ipcc_figures_926_927' set up to track 'access-nri/recipe_flato13ipcc_figures_926_927'.\n",
      "Your branch is up to date with 'origin/main'.\n",
      "On branch main\n",
      "Your branch is up to date with 'origin/main'.\n",
      "\n",
      "Untracked files:\n",
      "  (use \"git add <file>...\" to include in what will be committed)\n",
      "\tobs4mips_esgf.ipynb\n",
      "\trecipe_obs4mips.yml\n",
      "\n",
      "nothing added to commit but untracked files present (use \"git add\" to track)\n"
     ]
    },
    {
     "name": "stderr",
     "output_type": "stream",
     "text": [
      "remote: \n",
      "remote: Create a pull request for 'recipe_flato13ipcc_figure_98' on GitHub by visiting:        \n",
      "remote:      https://github.com/ACCESS-NRI/ESMValTool/pull/new/recipe_flato13ipcc_figure_98        \n",
      "remote: \n",
      "To github.com:ACCESS-NRI/ESMValTool.git\n",
      " * [new branch]          recipe_flato13ipcc_figure_98 -> recipe_flato13ipcc_figure_98\n",
      "Already on 'main'\n",
      "fatal: a branch named 'recipe_flato13ipcc_figures_938_941_cmip6' already exists\n"
     ]
    },
    {
     "name": "stdout",
     "output_type": "stream",
     "text": [
      "branch 'recipe_flato13ipcc_figure_98' set up to track 'access-nri/recipe_flato13ipcc_figure_98'.\n",
      "Your branch is up to date with 'origin/main'.\n",
      "On branch main\n",
      "Your branch is up to date with 'origin/main'.\n",
      "\n",
      "Untracked files:\n",
      "  (use \"git add <file>...\" to include in what will be committed)\n",
      "\tobs4mips_esgf.ipynb\n",
      "\trecipe_obs4mips.yml\n",
      "\n",
      "nothing added to commit but untracked files present (use \"git add\" to track)\n"
     ]
    },
    {
     "name": "stderr",
     "output_type": "stream",
     "text": [
      "remote: \n",
      "remote: Create a pull request for 'recipe_flato13ipcc_figures_938_941_cmip6' on GitHub by visiting:        \n",
      "remote:      https://github.com/ACCESS-NRI/ESMValTool/pull/new/recipe_flato13ipcc_figures_938_941_cmip6        \n",
      "remote: \n",
      "To github.com:ACCESS-NRI/ESMValTool.git\n",
      " * [new branch]          recipe_flato13ipcc_figures_938_941_cmip6 -> recipe_flato13ipcc_figures_938_941_cmip6\n",
      "Already on 'main'\n",
      "fatal: a branch named 'recipe_flato13ipcc_figure_914' already exists\n"
     ]
    },
    {
     "name": "stdout",
     "output_type": "stream",
     "text": [
      "branch 'recipe_flato13ipcc_figures_938_941_cmip6' set up to track 'access-nri/recipe_flato13ipcc_figures_938_941_cmip6'.\n",
      "Your branch is up to date with 'origin/main'.\n",
      "On branch main\n",
      "Your branch is up to date with 'origin/main'.\n",
      "\n",
      "Untracked files:\n",
      "  (use \"git add <file>...\" to include in what will be committed)\n",
      "\tobs4mips_esgf.ipynb\n",
      "\trecipe_obs4mips.yml\n",
      "\n",
      "nothing added to commit but untracked files present (use \"git add\" to track)\n"
     ]
    },
    {
     "name": "stderr",
     "output_type": "stream",
     "text": [
      "remote: \n",
      "remote: Create a pull request for 'recipe_flato13ipcc_figure_914' on GitHub by visiting:        \n",
      "remote:      https://github.com/ACCESS-NRI/ESMValTool/pull/new/recipe_flato13ipcc_figure_914        \n",
      "remote: \n",
      "To github.com:ACCESS-NRI/ESMValTool.git\n",
      " * [new branch]          recipe_flato13ipcc_figure_914 -> recipe_flato13ipcc_figure_914\n",
      "Already on 'main'\n",
      "fatal: a branch named 'recipe_flato13ipcc_figure_945a' already exists\n"
     ]
    },
    {
     "name": "stdout",
     "output_type": "stream",
     "text": [
      "branch 'recipe_flato13ipcc_figure_914' set up to track 'access-nri/recipe_flato13ipcc_figure_914'.\n",
      "Your branch is up to date with 'origin/main'.\n",
      "On branch main\n",
      "Your branch is up to date with 'origin/main'.\n",
      "\n",
      "Untracked files:\n",
      "  (use \"git add <file>...\" to include in what will be committed)\n",
      "\tobs4mips_esgf.ipynb\n",
      "\trecipe_obs4mips.yml\n",
      "\n",
      "nothing added to commit but untracked files present (use \"git add\" to track)\n"
     ]
    },
    {
     "name": "stderr",
     "output_type": "stream",
     "text": [
      "remote: \n",
      "remote: Create a pull request for 'recipe_flato13ipcc_figure_945a' on GitHub by visiting:        \n",
      "remote:      https://github.com/ACCESS-NRI/ESMValTool/pull/new/recipe_flato13ipcc_figure_945a        \n",
      "remote: \n",
      "To github.com:ACCESS-NRI/ESMValTool.git\n",
      " * [new branch]          recipe_flato13ipcc_figure_945a -> recipe_flato13ipcc_figure_945a\n",
      "Already on 'main'\n",
      "fatal: a branch named 'recipe_flato13ipcc_figures_938_941_cmip3' already exists\n"
     ]
    },
    {
     "name": "stdout",
     "output_type": "stream",
     "text": [
      "branch 'recipe_flato13ipcc_figure_945a' set up to track 'access-nri/recipe_flato13ipcc_figure_945a'.\n",
      "Your branch is up to date with 'origin/main'.\n",
      "On branch main\n",
      "Your branch is up to date with 'origin/main'.\n",
      "\n",
      "Untracked files:\n",
      "  (use \"git add <file>...\" to include in what will be committed)\n",
      "\tobs4mips_esgf.ipynb\n",
      "\trecipe_obs4mips.yml\n",
      "\n",
      "nothing added to commit but untracked files present (use \"git add\" to track)\n"
     ]
    },
    {
     "name": "stderr",
     "output_type": "stream",
     "text": [
      "remote: \n",
      "remote: Create a pull request for 'recipe_flato13ipcc_figures_938_941_cmip3' on GitHub by visiting:        \n",
      "remote:      https://github.com/ACCESS-NRI/ESMValTool/pull/new/recipe_flato13ipcc_figures_938_941_cmip3        \n",
      "remote: \n",
      "To github.com:ACCESS-NRI/ESMValTool.git\n",
      " * [new branch]          recipe_flato13ipcc_figures_938_941_cmip3 -> recipe_flato13ipcc_figures_938_941_cmip3\n",
      "Already on 'main'\n",
      "fatal: a branch named 'recipe_flato13ipcc_figures_92_95' already exists\n"
     ]
    },
    {
     "name": "stdout",
     "output_type": "stream",
     "text": [
      "branch 'recipe_flato13ipcc_figures_938_941_cmip3' set up to track 'access-nri/recipe_flato13ipcc_figures_938_941_cmip3'.\n",
      "Your branch is up to date with 'origin/main'.\n",
      "On branch main\n",
      "Your branch is up to date with 'origin/main'.\n",
      "\n",
      "Untracked files:\n",
      "  (use \"git add <file>...\" to include in what will be committed)\n",
      "\tobs4mips_esgf.ipynb\n",
      "\trecipe_obs4mips.yml\n",
      "\n",
      "nothing added to commit but untracked files present (use \"git add\" to track)\n"
     ]
    },
    {
     "name": "stderr",
     "output_type": "stream",
     "text": [
      "remote: \n",
      "remote: Create a pull request for 'recipe_flato13ipcc_figures_92_95' on GitHub by visiting:        \n",
      "remote:      https://github.com/ACCESS-NRI/ESMValTool/pull/new/recipe_flato13ipcc_figures_92_95        \n",
      "remote: \n",
      "To github.com:ACCESS-NRI/ESMValTool.git\n",
      " * [new branch]          recipe_flato13ipcc_figures_92_95 -> recipe_flato13ipcc_figures_92_95\n",
      "Already on 'main'\n",
      "fatal: a branch named 'recipe_flato13ipcc_figure_924' already exists\n"
     ]
    },
    {
     "name": "stdout",
     "output_type": "stream",
     "text": [
      "branch 'recipe_flato13ipcc_figures_92_95' set up to track 'access-nri/recipe_flato13ipcc_figures_92_95'.\n",
      "Your branch is up to date with 'origin/main'.\n",
      "On branch main\n",
      "Your branch is up to date with 'origin/main'.\n",
      "\n",
      "Untracked files:\n",
      "  (use \"git add <file>...\" to include in what will be committed)\n",
      "\tobs4mips_esgf.ipynb\n",
      "\trecipe_obs4mips.yml\n",
      "\n",
      "nothing added to commit but untracked files present (use \"git add\" to track)\n"
     ]
    },
    {
     "name": "stderr",
     "output_type": "stream",
     "text": [
      "remote: \n",
      "remote: Create a pull request for 'recipe_flato13ipcc_figure_924' on GitHub by visiting:        \n",
      "remote:      https://github.com/ACCESS-NRI/ESMValTool/pull/new/recipe_flato13ipcc_figure_924        \n",
      "remote: \n",
      "To github.com:ACCESS-NRI/ESMValTool.git\n",
      " * [new branch]          recipe_flato13ipcc_figure_924 -> recipe_flato13ipcc_figure_924\n",
      "Already on 'main'\n",
      "fatal: a branch named 'recipe_perfmetrics_CMIP5_4cds' already exists\n"
     ]
    },
    {
     "name": "stdout",
     "output_type": "stream",
     "text": [
      "branch 'recipe_flato13ipcc_figure_924' set up to track 'access-nri/recipe_flato13ipcc_figure_924'.\n",
      "Your branch is up to date with 'origin/main'.\n",
      "On branch main\n",
      "Your branch is up to date with 'origin/main'.\n",
      "\n",
      "Untracked files:\n",
      "  (use \"git add <file>...\" to include in what will be committed)\n",
      "\tobs4mips_esgf.ipynb\n",
      "\trecipe_obs4mips.yml\n",
      "\n",
      "nothing added to commit but untracked files present (use \"git add\" to track)\n"
     ]
    },
    {
     "name": "stderr",
     "output_type": "stream",
     "text": [
      "remote: \n",
      "remote: Create a pull request for 'recipe_perfmetrics_CMIP5_4cds' on GitHub by visiting:        \n",
      "remote:      https://github.com/ACCESS-NRI/ESMValTool/pull/new/recipe_perfmetrics_CMIP5_4cds        \n",
      "remote: \n",
      "To github.com:ACCESS-NRI/ESMValTool.git\n",
      " * [new branch]          recipe_perfmetrics_CMIP5_4cds -> recipe_perfmetrics_CMIP5_4cds\n",
      "Already on 'main'\n",
      "fatal: a branch named 'recipe_wenzel16jclim' already exists\n"
     ]
    },
    {
     "name": "stdout",
     "output_type": "stream",
     "text": [
      "branch 'recipe_perfmetrics_CMIP5_4cds' set up to track 'access-nri/recipe_perfmetrics_CMIP5_4cds'.\n",
      "Your branch is up to date with 'origin/main'.\n",
      "On branch main\n",
      "Your branch is up to date with 'origin/main'.\n",
      "\n",
      "Untracked files:\n",
      "  (use \"git add <file>...\" to include in what will be committed)\n",
      "\tobs4mips_esgf.ipynb\n",
      "\trecipe_obs4mips.yml\n",
      "\n",
      "nothing added to commit but untracked files present (use \"git add\" to track)\n"
     ]
    },
    {
     "name": "stderr",
     "output_type": "stream",
     "text": [
      "remote: \n",
      "remote: Create a pull request for 'recipe_wenzel16jclim' on GitHub by visiting:        \n",
      "remote:      https://github.com/ACCESS-NRI/ESMValTool/pull/new/recipe_wenzel16jclim        \n",
      "remote: \n",
      "To github.com:ACCESS-NRI/ESMValTool.git\n",
      " * [new branch]          recipe_wenzel16jclim -> recipe_wenzel16jclim\n",
      "Already on 'main'\n",
      "fatal: a branch named 'recipe_lauer13jclim' already exists\n"
     ]
    },
    {
     "name": "stdout",
     "output_type": "stream",
     "text": [
      "branch 'recipe_wenzel16jclim' set up to track 'access-nri/recipe_wenzel16jclim'.\n",
      "Your branch is up to date with 'origin/main'.\n",
      "On branch main\n",
      "Your branch is up to date with 'origin/main'.\n",
      "\n",
      "Untracked files:\n",
      "  (use \"git add <file>...\" to include in what will be committed)\n",
      "\tobs4mips_esgf.ipynb\n",
      "\trecipe_obs4mips.yml\n",
      "\n",
      "nothing added to commit but untracked files present (use \"git add\" to track)\n"
     ]
    },
    {
     "name": "stderr",
     "output_type": "stream",
     "text": [
      "remote: \n",
      "remote: Create a pull request for 'recipe_lauer13jclim' on GitHub by visiting:        \n",
      "remote:      https://github.com/ACCESS-NRI/ESMValTool/pull/new/recipe_lauer13jclim        \n",
      "remote: \n",
      "To github.com:ACCESS-NRI/ESMValTool.git\n",
      " * [new branch]          recipe_lauer13jclim -> recipe_lauer13jclim\n",
      "Already on 'main'\n",
      "fatal: a branch named 'recipe_cmug_h2o' already exists\n"
     ]
    },
    {
     "name": "stdout",
     "output_type": "stream",
     "text": [
      "branch 'recipe_lauer13jclim' set up to track 'access-nri/recipe_lauer13jclim'.\n",
      "Your branch is up to date with 'origin/main'.\n",
      "On branch main\n",
      "Your branch is up to date with 'origin/main'.\n",
      "\n",
      "Untracked files:\n",
      "  (use \"git add <file>...\" to include in what will be committed)\n",
      "\tobs4mips_esgf.ipynb\n",
      "\trecipe_obs4mips.yml\n",
      "\n",
      "nothing added to commit but untracked files present (use \"git add\" to track)\n"
     ]
    },
    {
     "name": "stderr",
     "output_type": "stream",
     "text": [
      "remote: \n",
      "remote: Create a pull request for 'recipe_cmug_h2o' on GitHub by visiting:        \n",
      "remote:      https://github.com/ACCESS-NRI/ESMValTool/pull/new/recipe_cmug_h2o        \n",
      "remote: \n",
      "To github.com:ACCESS-NRI/ESMValTool.git\n",
      " * [new branch]          recipe_cmug_h2o -> recipe_cmug_h2o\n",
      "Already on 'main'\n",
      "fatal: a branch named 'recipe_ecs_constraints' already exists\n"
     ]
    },
    {
     "name": "stdout",
     "output_type": "stream",
     "text": [
      "branch 'recipe_cmug_h2o' set up to track 'access-nri/recipe_cmug_h2o'.\n",
      "Your branch is up to date with 'origin/main'.\n",
      "On branch main\n",
      "Your branch is up to date with 'origin/main'.\n",
      "\n",
      "Untracked files:\n",
      "  (use \"git add <file>...\" to include in what will be committed)\n",
      "\tobs4mips_esgf.ipynb\n",
      "\trecipe_obs4mips.yml\n",
      "\n",
      "nothing added to commit but untracked files present (use \"git add\" to track)\n"
     ]
    },
    {
     "name": "stderr",
     "output_type": "stream",
     "text": [
      "remote: \n",
      "remote: Create a pull request for 'recipe_ecs_constraints' on GitHub by visiting:        \n",
      "remote:      https://github.com/ACCESS-NRI/ESMValTool/pull/new/recipe_ecs_constraints        \n",
      "remote: \n",
      "To github.com:ACCESS-NRI/ESMValTool.git\n",
      " * [new branch]          recipe_ecs_constraints -> recipe_ecs_constraints\n",
      "Already on 'main'\n",
      "fatal: a branch named 'recipe_autoassess_landsurface_surfrad' already exists\n"
     ]
    },
    {
     "name": "stdout",
     "output_type": "stream",
     "text": [
      "branch 'recipe_ecs_constraints' set up to track 'access-nri/recipe_ecs_constraints'.\n",
      "Your branch is up to date with 'origin/main'.\n",
      "On branch main\n",
      "Your branch is up to date with 'origin/main'.\n",
      "\n",
      "Untracked files:\n",
      "  (use \"git add <file>...\" to include in what will be committed)\n",
      "\tobs4mips_esgf.ipynb\n",
      "\trecipe_obs4mips.yml\n",
      "\n",
      "nothing added to commit but untracked files present (use \"git add\" to track)\n"
     ]
    },
    {
     "name": "stderr",
     "output_type": "stream",
     "text": [
      "remote: \n",
      "remote: Create a pull request for 'recipe_autoassess_landsurface_surfrad' on GitHub by visiting:        \n",
      "remote:      https://github.com/ACCESS-NRI/ESMValTool/pull/new/recipe_autoassess_landsurface_surfrad        \n",
      "remote: \n",
      "To github.com:ACCESS-NRI/ESMValTool.git\n",
      " * [new branch]          recipe_autoassess_landsurface_surfrad -> recipe_autoassess_landsurface_surfrad\n",
      "Already on 'main'\n",
      "fatal: a branch named 'recipe_smpi_4cds' already exists\n"
     ]
    },
    {
     "name": "stdout",
     "output_type": "stream",
     "text": [
      "branch 'recipe_autoassess_landsurface_surfrad' set up to track 'access-nri/recipe_autoassess_landsurface_surfrad'.\n",
      "Your branch is up to date with 'origin/main'.\n",
      "On branch main\n",
      "Your branch is up to date with 'origin/main'.\n",
      "\n",
      "Untracked files:\n",
      "  (use \"git add <file>...\" to include in what will be committed)\n",
      "\tobs4mips_esgf.ipynb\n",
      "\trecipe_obs4mips.yml\n",
      "\n",
      "nothing added to commit but untracked files present (use \"git add\" to track)\n"
     ]
    },
    {
     "name": "stderr",
     "output_type": "stream",
     "text": [
      "remote: \n",
      "remote: Create a pull request for 'recipe_smpi_4cds' on GitHub by visiting:        \n",
      "remote:      https://github.com/ACCESS-NRI/ESMValTool/pull/new/recipe_smpi_4cds        \n",
      "remote: \n",
      "To github.com:ACCESS-NRI/ESMValTool.git\n",
      " * [new branch]          recipe_smpi_4cds -> recipe_smpi_4cds\n",
      "Already on 'main'\n",
      "fatal: a branch named 'recipe_validation' already exists\n"
     ]
    },
    {
     "name": "stdout",
     "output_type": "stream",
     "text": [
      "branch 'recipe_smpi_4cds' set up to track 'access-nri/recipe_smpi_4cds'.\n",
      "Your branch is up to date with 'origin/main'.\n",
      "On branch main\n",
      "Your branch is up to date with 'origin/main'.\n",
      "\n",
      "Untracked files:\n",
      "  (use \"git add <file>...\" to include in what will be committed)\n",
      "\tobs4mips_esgf.ipynb\n",
      "\trecipe_obs4mips.yml\n",
      "\n",
      "nothing added to commit but untracked files present (use \"git add\" to track)\n"
     ]
    },
    {
     "name": "stderr",
     "output_type": "stream",
     "text": [
      "remote: \n",
      "remote: Create a pull request for 'recipe_validation' on GitHub by visiting:        \n",
      "remote:      https://github.com/ACCESS-NRI/ESMValTool/pull/new/recipe_validation        \n",
      "remote: \n",
      "To github.com:ACCESS-NRI/ESMValTool.git\n",
      " * [new branch]          recipe_validation -> recipe_validation\n",
      "Already on 'main'\n",
      "fatal: a branch named 'recipe_clouds_ipcc' already exists\n"
     ]
    },
    {
     "name": "stdout",
     "output_type": "stream",
     "text": [
      "branch 'recipe_validation' set up to track 'access-nri/recipe_validation'.\n",
      "Your branch is up to date with 'origin/main'.\n",
      "On branch main\n",
      "Your branch is up to date with 'origin/main'.\n",
      "\n",
      "Untracked files:\n",
      "  (use \"git add <file>...\" to include in what will be committed)\n",
      "\tobs4mips_esgf.ipynb\n",
      "\trecipe_obs4mips.yml\n",
      "\n",
      "nothing added to commit but untracked files present (use \"git add\" to track)\n"
     ]
    },
    {
     "name": "stderr",
     "output_type": "stream",
     "text": [
      "remote: \n",
      "remote: Create a pull request for 'recipe_clouds_ipcc' on GitHub by visiting:        \n",
      "remote:      https://github.com/ACCESS-NRI/ESMValTool/pull/new/recipe_clouds_ipcc        \n",
      "remote: \n",
      "To github.com:ACCESS-NRI/ESMValTool.git\n",
      " * [new branch]          recipe_clouds_ipcc -> recipe_clouds_ipcc\n",
      "Already on 'main'\n",
      "fatal: a branch named 'recipe_ocean_quadmap' already exists\n"
     ]
    },
    {
     "name": "stdout",
     "output_type": "stream",
     "text": [
      "branch 'recipe_clouds_ipcc' set up to track 'access-nri/recipe_clouds_ipcc'.\n",
      "Your branch is up to date with 'origin/main'.\n",
      "On branch main\n",
      "Your branch is up to date with 'origin/main'.\n",
      "\n",
      "Untracked files:\n",
      "  (use \"git add <file>...\" to include in what will be committed)\n",
      "\tobs4mips_esgf.ipynb\n",
      "\trecipe_obs4mips.yml\n",
      "\n",
      "nothing added to commit but untracked files present (use \"git add\" to track)\n"
     ]
    },
    {
     "name": "stderr",
     "output_type": "stream",
     "text": [
      "remote: \n",
      "remote: Create a pull request for 'recipe_ocean_quadmap' on GitHub by visiting:        \n",
      "remote:      https://github.com/ACCESS-NRI/ESMValTool/pull/new/recipe_ocean_quadmap        \n",
      "remote: \n",
      "To github.com:ACCESS-NRI/ESMValTool.git\n",
      " * [new branch]          recipe_ocean_quadmap -> recipe_ocean_quadmap\n",
      "Already on 'main'\n",
      "fatal: a branch named 'recipe_deangelis15nat' already exists\n"
     ]
    },
    {
     "name": "stdout",
     "output_type": "stream",
     "text": [
      "branch 'recipe_ocean_quadmap' set up to track 'access-nri/recipe_ocean_quadmap'.\n",
      "Your branch is up to date with 'origin/main'.\n",
      "On branch main\n",
      "Your branch is up to date with 'origin/main'.\n",
      "\n",
      "Untracked files:\n",
      "  (use \"git add <file>...\" to include in what will be committed)\n",
      "\tobs4mips_esgf.ipynb\n",
      "\trecipe_obs4mips.yml\n",
      "\n",
      "nothing added to commit but untracked files present (use \"git add\" to track)\n"
     ]
    },
    {
     "name": "stderr",
     "output_type": "stream",
     "text": [
      "remote: \n",
      "remote: Create a pull request for 'recipe_deangelis15nat' on GitHub by visiting:        \n",
      "remote:      https://github.com/ACCESS-NRI/ESMValTool/pull/new/recipe_deangelis15nat        \n",
      "remote: \n",
      "To github.com:ACCESS-NRI/ESMValTool.git\n",
      " * [new branch]          recipe_deangelis15nat -> recipe_deangelis15nat\n",
      "Already on 'main'\n",
      "fatal: a branch named 'recipe_perfmetrics_land_CMIP5' already exists\n"
     ]
    },
    {
     "name": "stdout",
     "output_type": "stream",
     "text": [
      "branch 'recipe_deangelis15nat' set up to track 'access-nri/recipe_deangelis15nat'.\n",
      "Your branch is up to date with 'origin/main'.\n",
      "On branch main\n",
      "Your branch is up to date with 'origin/main'.\n",
      "\n",
      "Untracked files:\n",
      "  (use \"git add <file>...\" to include in what will be committed)\n",
      "\tobs4mips_esgf.ipynb\n",
      "\trecipe_obs4mips.yml\n",
      "\n",
      "nothing added to commit but untracked files present (use \"git add\" to track)\n"
     ]
    },
    {
     "name": "stderr",
     "output_type": "stream",
     "text": [
      "remote: \n",
      "remote: Create a pull request for 'recipe_perfmetrics_land_CMIP5' on GitHub by visiting:        \n",
      "remote:      https://github.com/ACCESS-NRI/ESMValTool/pull/new/recipe_perfmetrics_land_CMIP5        \n",
      "remote: \n",
      "To github.com:ACCESS-NRI/ESMValTool.git\n",
      " * [new branch]          recipe_perfmetrics_land_CMIP5 -> recipe_perfmetrics_land_CMIP5\n",
      "Already on 'main'\n",
      "fatal: a branch named 'recipe_bock20jgr_fig_6-7' already exists\n"
     ]
    },
    {
     "name": "stdout",
     "output_type": "stream",
     "text": [
      "branch 'recipe_perfmetrics_land_CMIP5' set up to track 'access-nri/recipe_perfmetrics_land_CMIP5'.\n",
      "Your branch is up to date with 'origin/main'.\n",
      "On branch main\n",
      "Your branch is up to date with 'origin/main'.\n",
      "\n",
      "Untracked files:\n",
      "  (use \"git add <file>...\" to include in what will be committed)\n",
      "\tobs4mips_esgf.ipynb\n",
      "\trecipe_obs4mips.yml\n",
      "\n",
      "nothing added to commit but untracked files present (use \"git add\" to track)\n"
     ]
    },
    {
     "name": "stderr",
     "output_type": "stream",
     "text": [
      "remote: \n",
      "remote: Create a pull request for 'recipe_bock20jgr_fig_6-7' on GitHub by visiting:        \n",
      "remote:      https://github.com/ACCESS-NRI/ESMValTool/pull/new/recipe_bock20jgr_fig_6-7        \n",
      "remote: \n",
      "To github.com:ACCESS-NRI/ESMValTool.git\n",
      " * [new branch]          recipe_bock20jgr_fig_6-7 -> recipe_bock20jgr_fig_6-7\n",
      "Already on 'main'\n",
      "fatal: a branch named 'recipe_bock20jgr_fig_8-10' already exists\n"
     ]
    },
    {
     "name": "stdout",
     "output_type": "stream",
     "text": [
      "branch 'recipe_bock20jgr_fig_6-7' set up to track 'access-nri/recipe_bock20jgr_fig_6-7'.\n",
      "Your branch is up to date with 'origin/main'.\n",
      "On branch main\n",
      "Your branch is up to date with 'origin/main'.\n",
      "\n",
      "Untracked files:\n",
      "  (use \"git add <file>...\" to include in what will be committed)\n",
      "\tobs4mips_esgf.ipynb\n",
      "\trecipe_obs4mips.yml\n",
      "\n",
      "nothing added to commit but untracked files present (use \"git add\" to track)\n"
     ]
    },
    {
     "name": "stderr",
     "output_type": "stream",
     "text": [
      "remote: \n",
      "remote: Create a pull request for 'recipe_bock20jgr_fig_8-10' on GitHub by visiting:        \n",
      "remote:      https://github.com/ACCESS-NRI/ESMValTool/pull/new/recipe_bock20jgr_fig_8-10        \n",
      "remote: \n",
      "To github.com:ACCESS-NRI/ESMValTool.git\n",
      " * [new branch]          recipe_bock20jgr_fig_8-10 -> recipe_bock20jgr_fig_8-10\n",
      "Already on 'main'\n",
      "fatal: a branch named 'recipe_bock20jgr_fig_1-4' already exists\n"
     ]
    },
    {
     "name": "stdout",
     "output_type": "stream",
     "text": [
      "branch 'recipe_bock20jgr_fig_8-10' set up to track 'access-nri/recipe_bock20jgr_fig_8-10'.\n",
      "Your branch is up to date with 'origin/main'.\n",
      "On branch main\n",
      "Your branch is up to date with 'origin/main'.\n",
      "\n",
      "Untracked files:\n",
      "  (use \"git add <file>...\" to include in what will be committed)\n",
      "\tobs4mips_esgf.ipynb\n",
      "\trecipe_obs4mips.yml\n",
      "\n",
      "nothing added to commit but untracked files present (use \"git add\" to track)\n"
     ]
    },
    {
     "name": "stderr",
     "output_type": "stream",
     "text": [
      "remote: \n",
      "remote: Create a pull request for 'recipe_bock20jgr_fig_1-4' on GitHub by visiting:        \n",
      "remote:      https://github.com/ACCESS-NRI/ESMValTool/pull/new/recipe_bock20jgr_fig_1-4        \n",
      "remote: \n",
      "To github.com:ACCESS-NRI/ESMValTool.git\n",
      " * [new branch]          recipe_bock20jgr_fig_1-4 -> recipe_bock20jgr_fig_1-4\n",
      "Already on 'main'\n",
      "fatal: a branch named 'recipe_ipccwg1ar6ch3_atmosphere' already exists\n"
     ]
    },
    {
     "name": "stdout",
     "output_type": "stream",
     "text": [
      "branch 'recipe_bock20jgr_fig_1-4' set up to track 'access-nri/recipe_bock20jgr_fig_1-4'.\n",
      "Your branch is up to date with 'origin/main'.\n",
      "On branch main\n",
      "Your branch is up to date with 'origin/main'.\n",
      "\n",
      "Untracked files:\n",
      "  (use \"git add <file>...\" to include in what will be committed)\n",
      "\tobs4mips_esgf.ipynb\n",
      "\trecipe_obs4mips.yml\n",
      "\n",
      "nothing added to commit but untracked files present (use \"git add\" to track)\n",
      "branch 'recipe_ipccwg1ar6ch3_atmosphere' set up to track 'access-nri/recipe_ipccwg1ar6ch3_atmosphere'.\n"
     ]
    },
    {
     "name": "stderr",
     "output_type": "stream",
     "text": [
      "remote: \n",
      "remote: Create a pull request for 'recipe_ipccwg1ar6ch3_atmosphere' on GitHub by visiting:        \n",
      "remote:      https://github.com/ACCESS-NRI/ESMValTool/pull/new/recipe_ipccwg1ar6ch3_atmosphere        \n",
      "remote: \n",
      "To github.com:ACCESS-NRI/ESMValTool.git\n",
      " * [new branch]          recipe_ipccwg1ar6ch3_atmosphere -> recipe_ipccwg1ar6ch3_atmosphere\n"
     ]
    }
   ],
   "source": [
    "import subprocess\n",
    "\n",
    "for recipe in  recipes.keys():\n",
    "    file_in = Path(recipe)\n",
    "    subprocess.run([\"git\", \"checkout\", \"main\"])\n",
    "    #subprocess.run([\"git\", \"branch\", \"-d\", file_in.stem])\n",
    "    subprocess.run([\"git\", \"checkout\", \"-b\", file_in.stem])\n",
    "    subprocess.run([\"git\", \"add\", f\"esmvaltool/recipes/{recipe}\"])\n",
    "    subprocess.run([\"git\", \"commit\", \"-m\", f\"Update recipe {file_in.stem}\"])\n",
    "    subprocess.run(['git', \"push\", \"--set-upstream\", \"access-nri\", file_in.stem])"
   ]
  },
  {
   "cell_type": "code",
   "execution_count": 6,
   "id": "5b1011f1",
   "metadata": {},
   "outputs": [
    {
     "name": "stdout",
     "output_type": "stream",
     "text": [
      "Your branch is up to date with 'origin/main'.\n",
      "Your branch is up to date with 'origin/main'.\n",
      "Your branch is up to date with 'origin/main'.\n",
      "Your branch is up to date with 'origin/main'.\n",
      "Your branch is up to date with 'origin/main'.\n",
      "Your branch is up to date with 'origin/main'.\n",
      "Your branch is up to date with 'origin/main'.\n",
      "Your branch is up to date with 'origin/main'.\n",
      "Your branch is up to date with 'origin/main'.\n",
      "Your branch is up to date with 'origin/main'.\n",
      "Your branch is up to date with 'origin/main'.\n",
      "Your branch is up to date with 'origin/main'.\n",
      "Your branch is up to date with 'origin/main'.\n",
      "Your branch is up to date with 'origin/main'.\n",
      "Your branch is up to date with 'origin/main'.\n",
      "Your branch is up to date with 'origin/main'.\n",
      "Your branch is up to date with 'origin/main'.\n",
      "Your branch is up to date with 'origin/main'.\n",
      "Your branch is up to date with 'origin/main'.\n",
      "Your branch is up to date with 'origin/main'.\n",
      "Your branch is up to date with 'origin/main'.\n",
      "Your branch is up to date with 'origin/main'.\n",
      "Your branch is up to date with 'origin/main'.\n",
      "Your branch is up to date with 'origin/main'.\n",
      "Your branch is up to date with 'origin/main'.\n",
      "Your branch is up to date with 'origin/main'.\n",
      "Your branch is up to date with 'origin/main'.\n",
      "Your branch is up to date with 'origin/main'.\n",
      "Your branch is up to date with 'origin/main'.\n",
      "Your branch is up to date with 'origin/main'.\n",
      "Your branch is up to date with 'origin/main'.\n"
     ]
    },
    {
     "name": "stderr",
     "output_type": "stream",
     "text": [
      "Already on 'main'\n",
      "error: branch 'recipe_smpi' not found.\n",
      "Already on 'main'\n",
      "error: branch 'recipe_perfmetrics_CMIP5' not found.\n",
      "Already on 'main'\n",
      "error: branch 'recipe_ecs_scatter' not found.\n",
      "Already on 'main'\n",
      "error: branch 'recipe_quantilebias' not found.\n",
      "Already on 'main'\n",
      "error: branch 'recipe_clouds_bias' not found.\n",
      "Already on 'main'\n",
      "error: branch 'recipe_schlund20esd' not found.\n",
      "Already on 'main'\n",
      "error: branch 'recipe_flato13ipcc_figure_942' not found.\n",
      "Already on 'main'\n",
      "error: branch 'recipe_flato13ipcc_figures_926_927' not found.\n",
      "Already on 'main'\n",
      "error: branch 'recipe_flato13ipcc_figure_98' not found.\n",
      "Already on 'main'\n",
      "error: branch 'recipe_flato13ipcc_figures_938_941_cmip6' not found.\n",
      "Already on 'main'\n",
      "error: branch 'recipe_flato13ipcc_figure_914' not found.\n",
      "Already on 'main'\n",
      "error: branch 'recipe_flato13ipcc_figure_945a' not found.\n",
      "Already on 'main'\n",
      "error: branch 'recipe_flato13ipcc_figures_938_941_cmip3' not found.\n",
      "Already on 'main'\n",
      "error: branch 'recipe_flato13ipcc_figures_92_95' not found.\n",
      "Already on 'main'\n",
      "error: branch 'recipe_flato13ipcc_figure_924' not found.\n",
      "Already on 'main'\n",
      "error: branch 'recipe_perfmetrics_CMIP5_4cds' not found.\n",
      "Already on 'main'\n",
      "error: branch 'recipe_wenzel16jclim' not found.\n",
      "Already on 'main'\n",
      "error: branch 'recipe_lauer13jclim' not found.\n",
      "Already on 'main'\n",
      "error: branch 'recipe_cmug_h2o' not found.\n",
      "Already on 'main'\n",
      "error: branch 'recipe_ecs_constraints' not found.\n",
      "Already on 'main'\n",
      "error: branch 'recipe_autoassess_landsurface_surfrad' not found.\n",
      "Already on 'main'\n",
      "error: branch 'recipe_smpi_4cds' not found.\n",
      "Already on 'main'\n",
      "error: branch 'recipe_validation' not found.\n",
      "Already on 'main'\n",
      "error: branch 'recipe_clouds_ipcc' not found.\n",
      "Already on 'main'\n",
      "error: branch 'recipe_ocean_quadmap' not found.\n",
      "Already on 'main'\n",
      "error: branch 'recipe_deangelis15nat' not found.\n",
      "Already on 'main'\n",
      "error: branch 'recipe_perfmetrics_land_CMIP5' not found.\n",
      "Already on 'main'\n",
      "error: branch 'recipe_bock20jgr_fig_6-7' not found.\n",
      "Already on 'main'\n",
      "error: branch 'recipe_bock20jgr_fig_8-10' not found.\n",
      "Already on 'main'\n",
      "error: branch 'recipe_bock20jgr_fig_1-4' not found.\n",
      "Already on 'main'\n",
      "error: branch 'recipe_ipccwg1ar6ch3_atmosphere' not found.\n"
     ]
    }
   ],
   "source": [
    "import subprocess\n",
    "\n",
    "for recipe in  recipes.keys():\n",
    "    file_in = Path(recipe)\n",
    "    subprocess.run([\"git\", \"checkout\", \"main\"])\n",
    "    subprocess.run([\"git\", \"branch\", \"-D\", file_in.stem])"
   ]
  },
  {
   "cell_type": "code",
   "execution_count": null,
   "id": "0d7e9e98",
   "metadata": {},
   "outputs": [],
   "source": []
  }
 ],
 "metadata": {
  "kernelspec": {
   "display_name": "Python 3 (ipykernel)",
   "language": "python",
   "name": "python3"
  },
  "language_info": {
   "codemirror_mode": {
    "name": "ipython",
    "version": 3
   },
   "file_extension": ".py",
   "mimetype": "text/x-python",
   "name": "python",
   "nbconvert_exporter": "python",
   "pygments_lexer": "ipython3",
   "version": "3.11.3"
  }
 },
 "nbformat": 4,
 "nbformat_minor": 5
}
